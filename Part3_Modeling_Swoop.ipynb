{
  "nbformat": 4,
  "nbformat_minor": 0,
  "metadata": {
    "colab": {
      "provenance": []
    },
    "kernelspec": {
      "name": "python3",
      "display_name": "Python 3"
    },
    "language_info": {
      "name": "python"
    }
  },
  "cells": [
    {
      "cell_type": "code",
      "execution_count": 7,
      "metadata": {
        "id": "K8bhgbH0NX-3"
      },
      "outputs": [],
      "source": [
        "import pandas as pd\n",
        "import numpy as np\n",
        "from google.colab import drive"
      ]
    },
    {
      "cell_type": "code",
      "source": [
        "drive.mount('/content/drive')"
      ],
      "metadata": {
        "colab": {
          "base_uri": "https://localhost:8080/"
        },
        "id": "8kjkEqBVN3c7",
        "outputId": "a187e6ee-b1f6-4d1b-e6a7-b8d92459d9cd"
      },
      "execution_count": 2,
      "outputs": [
        {
          "output_type": "stream",
          "name": "stdout",
          "text": [
            "Mounted at /content/drive\n"
          ]
        }
      ]
    },
    {
      "cell_type": "code",
      "source": [
        "df_swoop = pd.read_csv('/content/drive/MyDrive/DS_Proj/airline_reviews-main/Swoop_airlines.csv')"
      ],
      "metadata": {
        "id": "hLB_VPExOOED"
      },
      "execution_count": 4,
      "outputs": []
    },
    {
      "cell_type": "code",
      "source": [
        "from sklearn.model_selection import train_test_split\n",
        "from sklearn.linear_model import LogisticRegression\n",
        "from sklearn.tree import DecisionTreeClassifier\n",
        "from sklearn.metrics import accuracy_score, precision_score, recall_score, f1_score, confusion_matrix\n",
        "import pandas as pd\n",
        "import seaborn as sns\n",
        "import matplotlib.pyplot as plt"
      ],
      "metadata": {
        "id": "SMJsZlefPL53"
      },
      "execution_count": 14,
      "outputs": []
    },
    {
      "cell_type": "code",
      "source": [
        "df_swoop['Recommended_bin'] = np.where(df_swoop['Recommended'] == 'yes', 1, 0)\n",
        "df_swoop.describe()"
      ],
      "metadata": {
        "colab": {
          "base_uri": "https://localhost:8080/",
          "height": 320
        },
        "id": "C5reSz3pPWQc",
        "outputId": "b6cd896c-d45f-4ae6-ee05-d0e97706b6ac"
      },
      "execution_count": 8,
      "outputs": [
        {
          "output_type": "execute_result",
          "data": {
            "text/plain": [
              "          Unnamed: 0  EntertainmentRating  FoodRating  GroundServiceRating  \\\n",
              "count     701.000000           701.000000  701.000000           701.000000   \n",
              "mean   106475.516405             0.462197    0.650499             1.891583   \n",
              "std       577.143757             1.038026    1.252068             1.634346   \n",
              "min    105641.000000             0.000000    0.000000             0.000000   \n",
              "25%    105945.000000             0.000000    0.000000             1.000000   \n",
              "50%    106361.000000             0.000000    0.000000             1.000000   \n",
              "75%    107062.000000             1.000000    1.000000             3.000000   \n",
              "max    107411.000000             5.000000    5.000000             5.000000   \n",
              "\n",
              "       OverallScore  SeatComfortRating  ServiceRating  ValueRating  \\\n",
              "count    701.000000         701.000000     701.000000   701.000000   \n",
              "mean       3.012839           1.834522       2.122682     2.108417   \n",
              "std        3.287831           1.527278       1.791826     1.599000   \n",
              "min        1.000000           0.000000       0.000000     1.000000   \n",
              "25%        1.000000           1.000000       1.000000     1.000000   \n",
              "50%        1.000000           1.000000       1.000000     1.000000   \n",
              "75%        3.000000           3.000000       4.000000     3.000000   \n",
              "max       10.000000           5.000000       5.000000     5.000000   \n",
              "\n",
              "       WifiRating  Review_score_nltk  Review_score  Recommended_bin  \n",
              "count  701.000000         701.000000    701.000000       701.000000  \n",
              "mean     0.567760           0.380884      0.192582         0.231098  \n",
              "std      1.195247           0.485951      0.394609         0.421836  \n",
              "min      0.000000           0.000000      0.000000         0.000000  \n",
              "25%      0.000000           0.000000      0.000000         0.000000  \n",
              "50%      0.000000           0.000000      0.000000         0.000000  \n",
              "75%      1.000000           1.000000      0.000000         0.000000  \n",
              "max      5.000000           1.000000      1.000000         1.000000  "
            ],
            "text/html": [
              "\n",
              "  <div id=\"df-34bd3d5c-c177-49cb-862f-44416a4705c2\" class=\"colab-df-container\">\n",
              "    <div>\n",
              "<style scoped>\n",
              "    .dataframe tbody tr th:only-of-type {\n",
              "        vertical-align: middle;\n",
              "    }\n",
              "\n",
              "    .dataframe tbody tr th {\n",
              "        vertical-align: top;\n",
              "    }\n",
              "\n",
              "    .dataframe thead th {\n",
              "        text-align: right;\n",
              "    }\n",
              "</style>\n",
              "<table border=\"1\" class=\"dataframe\">\n",
              "  <thead>\n",
              "    <tr style=\"text-align: right;\">\n",
              "      <th></th>\n",
              "      <th>Unnamed: 0</th>\n",
              "      <th>EntertainmentRating</th>\n",
              "      <th>FoodRating</th>\n",
              "      <th>GroundServiceRating</th>\n",
              "      <th>OverallScore</th>\n",
              "      <th>SeatComfortRating</th>\n",
              "      <th>ServiceRating</th>\n",
              "      <th>ValueRating</th>\n",
              "      <th>WifiRating</th>\n",
              "      <th>Review_score_nltk</th>\n",
              "      <th>Review_score</th>\n",
              "      <th>Recommended_bin</th>\n",
              "    </tr>\n",
              "  </thead>\n",
              "  <tbody>\n",
              "    <tr>\n",
              "      <th>count</th>\n",
              "      <td>701.000000</td>\n",
              "      <td>701.000000</td>\n",
              "      <td>701.000000</td>\n",
              "      <td>701.000000</td>\n",
              "      <td>701.000000</td>\n",
              "      <td>701.000000</td>\n",
              "      <td>701.000000</td>\n",
              "      <td>701.000000</td>\n",
              "      <td>701.000000</td>\n",
              "      <td>701.000000</td>\n",
              "      <td>701.000000</td>\n",
              "      <td>701.000000</td>\n",
              "    </tr>\n",
              "    <tr>\n",
              "      <th>mean</th>\n",
              "      <td>106475.516405</td>\n",
              "      <td>0.462197</td>\n",
              "      <td>0.650499</td>\n",
              "      <td>1.891583</td>\n",
              "      <td>3.012839</td>\n",
              "      <td>1.834522</td>\n",
              "      <td>2.122682</td>\n",
              "      <td>2.108417</td>\n",
              "      <td>0.567760</td>\n",
              "      <td>0.380884</td>\n",
              "      <td>0.192582</td>\n",
              "      <td>0.231098</td>\n",
              "    </tr>\n",
              "    <tr>\n",
              "      <th>std</th>\n",
              "      <td>577.143757</td>\n",
              "      <td>1.038026</td>\n",
              "      <td>1.252068</td>\n",
              "      <td>1.634346</td>\n",
              "      <td>3.287831</td>\n",
              "      <td>1.527278</td>\n",
              "      <td>1.791826</td>\n",
              "      <td>1.599000</td>\n",
              "      <td>1.195247</td>\n",
              "      <td>0.485951</td>\n",
              "      <td>0.394609</td>\n",
              "      <td>0.421836</td>\n",
              "    </tr>\n",
              "    <tr>\n",
              "      <th>min</th>\n",
              "      <td>105641.000000</td>\n",
              "      <td>0.000000</td>\n",
              "      <td>0.000000</td>\n",
              "      <td>0.000000</td>\n",
              "      <td>1.000000</td>\n",
              "      <td>0.000000</td>\n",
              "      <td>0.000000</td>\n",
              "      <td>1.000000</td>\n",
              "      <td>0.000000</td>\n",
              "      <td>0.000000</td>\n",
              "      <td>0.000000</td>\n",
              "      <td>0.000000</td>\n",
              "    </tr>\n",
              "    <tr>\n",
              "      <th>25%</th>\n",
              "      <td>105945.000000</td>\n",
              "      <td>0.000000</td>\n",
              "      <td>0.000000</td>\n",
              "      <td>1.000000</td>\n",
              "      <td>1.000000</td>\n",
              "      <td>1.000000</td>\n",
              "      <td>1.000000</td>\n",
              "      <td>1.000000</td>\n",
              "      <td>0.000000</td>\n",
              "      <td>0.000000</td>\n",
              "      <td>0.000000</td>\n",
              "      <td>0.000000</td>\n",
              "    </tr>\n",
              "    <tr>\n",
              "      <th>50%</th>\n",
              "      <td>106361.000000</td>\n",
              "      <td>0.000000</td>\n",
              "      <td>0.000000</td>\n",
              "      <td>1.000000</td>\n",
              "      <td>1.000000</td>\n",
              "      <td>1.000000</td>\n",
              "      <td>1.000000</td>\n",
              "      <td>1.000000</td>\n",
              "      <td>0.000000</td>\n",
              "      <td>0.000000</td>\n",
              "      <td>0.000000</td>\n",
              "      <td>0.000000</td>\n",
              "    </tr>\n",
              "    <tr>\n",
              "      <th>75%</th>\n",
              "      <td>107062.000000</td>\n",
              "      <td>1.000000</td>\n",
              "      <td>1.000000</td>\n",
              "      <td>3.000000</td>\n",
              "      <td>3.000000</td>\n",
              "      <td>3.000000</td>\n",
              "      <td>4.000000</td>\n",
              "      <td>3.000000</td>\n",
              "      <td>1.000000</td>\n",
              "      <td>1.000000</td>\n",
              "      <td>0.000000</td>\n",
              "      <td>0.000000</td>\n",
              "    </tr>\n",
              "    <tr>\n",
              "      <th>max</th>\n",
              "      <td>107411.000000</td>\n",
              "      <td>5.000000</td>\n",
              "      <td>5.000000</td>\n",
              "      <td>5.000000</td>\n",
              "      <td>10.000000</td>\n",
              "      <td>5.000000</td>\n",
              "      <td>5.000000</td>\n",
              "      <td>5.000000</td>\n",
              "      <td>5.000000</td>\n",
              "      <td>1.000000</td>\n",
              "      <td>1.000000</td>\n",
              "      <td>1.000000</td>\n",
              "    </tr>\n",
              "  </tbody>\n",
              "</table>\n",
              "</div>\n",
              "    <div class=\"colab-df-buttons\">\n",
              "\n",
              "  <div class=\"colab-df-container\">\n",
              "    <button class=\"colab-df-convert\" onclick=\"convertToInteractive('df-34bd3d5c-c177-49cb-862f-44416a4705c2')\"\n",
              "            title=\"Convert this dataframe to an interactive table.\"\n",
              "            style=\"display:none;\">\n",
              "\n",
              "  <svg xmlns=\"http://www.w3.org/2000/svg\" height=\"24px\" viewBox=\"0 -960 960 960\">\n",
              "    <path d=\"M120-120v-720h720v720H120Zm60-500h600v-160H180v160Zm220 220h160v-160H400v160Zm0 220h160v-160H400v160ZM180-400h160v-160H180v160Zm440 0h160v-160H620v160ZM180-180h160v-160H180v160Zm440 0h160v-160H620v160Z\"/>\n",
              "  </svg>\n",
              "    </button>\n",
              "\n",
              "  <style>\n",
              "    .colab-df-container {\n",
              "      display:flex;\n",
              "      gap: 12px;\n",
              "    }\n",
              "\n",
              "    .colab-df-convert {\n",
              "      background-color: #E8F0FE;\n",
              "      border: none;\n",
              "      border-radius: 50%;\n",
              "      cursor: pointer;\n",
              "      display: none;\n",
              "      fill: #1967D2;\n",
              "      height: 32px;\n",
              "      padding: 0 0 0 0;\n",
              "      width: 32px;\n",
              "    }\n",
              "\n",
              "    .colab-df-convert:hover {\n",
              "      background-color: #E2EBFA;\n",
              "      box-shadow: 0px 1px 2px rgba(60, 64, 67, 0.3), 0px 1px 3px 1px rgba(60, 64, 67, 0.15);\n",
              "      fill: #174EA6;\n",
              "    }\n",
              "\n",
              "    .colab-df-buttons div {\n",
              "      margin-bottom: 4px;\n",
              "    }\n",
              "\n",
              "    [theme=dark] .colab-df-convert {\n",
              "      background-color: #3B4455;\n",
              "      fill: #D2E3FC;\n",
              "    }\n",
              "\n",
              "    [theme=dark] .colab-df-convert:hover {\n",
              "      background-color: #434B5C;\n",
              "      box-shadow: 0px 1px 3px 1px rgba(0, 0, 0, 0.15);\n",
              "      filter: drop-shadow(0px 1px 2px rgba(0, 0, 0, 0.3));\n",
              "      fill: #FFFFFF;\n",
              "    }\n",
              "  </style>\n",
              "\n",
              "    <script>\n",
              "      const buttonEl =\n",
              "        document.querySelector('#df-34bd3d5c-c177-49cb-862f-44416a4705c2 button.colab-df-convert');\n",
              "      buttonEl.style.display =\n",
              "        google.colab.kernel.accessAllowed ? 'block' : 'none';\n",
              "\n",
              "      async function convertToInteractive(key) {\n",
              "        const element = document.querySelector('#df-34bd3d5c-c177-49cb-862f-44416a4705c2');\n",
              "        const dataTable =\n",
              "          await google.colab.kernel.invokeFunction('convertToInteractive',\n",
              "                                                    [key], {});\n",
              "        if (!dataTable) return;\n",
              "\n",
              "        const docLinkHtml = 'Like what you see? Visit the ' +\n",
              "          '<a target=\"_blank\" href=https://colab.research.google.com/notebooks/data_table.ipynb>data table notebook</a>'\n",
              "          + ' to learn more about interactive tables.';\n",
              "        element.innerHTML = '';\n",
              "        dataTable['output_type'] = 'display_data';\n",
              "        await google.colab.output.renderOutput(dataTable, element);\n",
              "        const docLink = document.createElement('div');\n",
              "        docLink.innerHTML = docLinkHtml;\n",
              "        element.appendChild(docLink);\n",
              "      }\n",
              "    </script>\n",
              "  </div>\n",
              "\n",
              "\n",
              "<div id=\"df-ee546bfa-c348-4cb8-8320-f5d2c6f1257a\">\n",
              "  <button class=\"colab-df-quickchart\" onclick=\"quickchart('df-ee546bfa-c348-4cb8-8320-f5d2c6f1257a')\"\n",
              "            title=\"Suggest charts\"\n",
              "            style=\"display:none;\">\n",
              "\n",
              "<svg xmlns=\"http://www.w3.org/2000/svg\" height=\"24px\"viewBox=\"0 0 24 24\"\n",
              "     width=\"24px\">\n",
              "    <g>\n",
              "        <path d=\"M19 3H5c-1.1 0-2 .9-2 2v14c0 1.1.9 2 2 2h14c1.1 0 2-.9 2-2V5c0-1.1-.9-2-2-2zM9 17H7v-7h2v7zm4 0h-2V7h2v10zm4 0h-2v-4h2v4z\"/>\n",
              "    </g>\n",
              "</svg>\n",
              "  </button>\n",
              "\n",
              "<style>\n",
              "  .colab-df-quickchart {\n",
              "      --bg-color: #E8F0FE;\n",
              "      --fill-color: #1967D2;\n",
              "      --hover-bg-color: #E2EBFA;\n",
              "      --hover-fill-color: #174EA6;\n",
              "      --disabled-fill-color: #AAA;\n",
              "      --disabled-bg-color: #DDD;\n",
              "  }\n",
              "\n",
              "  [theme=dark] .colab-df-quickchart {\n",
              "      --bg-color: #3B4455;\n",
              "      --fill-color: #D2E3FC;\n",
              "      --hover-bg-color: #434B5C;\n",
              "      --hover-fill-color: #FFFFFF;\n",
              "      --disabled-bg-color: #3B4455;\n",
              "      --disabled-fill-color: #666;\n",
              "  }\n",
              "\n",
              "  .colab-df-quickchart {\n",
              "    background-color: var(--bg-color);\n",
              "    border: none;\n",
              "    border-radius: 50%;\n",
              "    cursor: pointer;\n",
              "    display: none;\n",
              "    fill: var(--fill-color);\n",
              "    height: 32px;\n",
              "    padding: 0;\n",
              "    width: 32px;\n",
              "  }\n",
              "\n",
              "  .colab-df-quickchart:hover {\n",
              "    background-color: var(--hover-bg-color);\n",
              "    box-shadow: 0 1px 2px rgba(60, 64, 67, 0.3), 0 1px 3px 1px rgba(60, 64, 67, 0.15);\n",
              "    fill: var(--button-hover-fill-color);\n",
              "  }\n",
              "\n",
              "  .colab-df-quickchart-complete:disabled,\n",
              "  .colab-df-quickchart-complete:disabled:hover {\n",
              "    background-color: var(--disabled-bg-color);\n",
              "    fill: var(--disabled-fill-color);\n",
              "    box-shadow: none;\n",
              "  }\n",
              "\n",
              "  .colab-df-spinner {\n",
              "    border: 2px solid var(--fill-color);\n",
              "    border-color: transparent;\n",
              "    border-bottom-color: var(--fill-color);\n",
              "    animation:\n",
              "      spin 1s steps(1) infinite;\n",
              "  }\n",
              "\n",
              "  @keyframes spin {\n",
              "    0% {\n",
              "      border-color: transparent;\n",
              "      border-bottom-color: var(--fill-color);\n",
              "      border-left-color: var(--fill-color);\n",
              "    }\n",
              "    20% {\n",
              "      border-color: transparent;\n",
              "      border-left-color: var(--fill-color);\n",
              "      border-top-color: var(--fill-color);\n",
              "    }\n",
              "    30% {\n",
              "      border-color: transparent;\n",
              "      border-left-color: var(--fill-color);\n",
              "      border-top-color: var(--fill-color);\n",
              "      border-right-color: var(--fill-color);\n",
              "    }\n",
              "    40% {\n",
              "      border-color: transparent;\n",
              "      border-right-color: var(--fill-color);\n",
              "      border-top-color: var(--fill-color);\n",
              "    }\n",
              "    60% {\n",
              "      border-color: transparent;\n",
              "      border-right-color: var(--fill-color);\n",
              "    }\n",
              "    80% {\n",
              "      border-color: transparent;\n",
              "      border-right-color: var(--fill-color);\n",
              "      border-bottom-color: var(--fill-color);\n",
              "    }\n",
              "    90% {\n",
              "      border-color: transparent;\n",
              "      border-bottom-color: var(--fill-color);\n",
              "    }\n",
              "  }\n",
              "</style>\n",
              "\n",
              "  <script>\n",
              "    async function quickchart(key) {\n",
              "      const quickchartButtonEl =\n",
              "        document.querySelector('#' + key + ' button');\n",
              "      quickchartButtonEl.disabled = true;  // To prevent multiple clicks.\n",
              "      quickchartButtonEl.classList.add('colab-df-spinner');\n",
              "      try {\n",
              "        const charts = await google.colab.kernel.invokeFunction(\n",
              "            'suggestCharts', [key], {});\n",
              "      } catch (error) {\n",
              "        console.error('Error during call to suggestCharts:', error);\n",
              "      }\n",
              "      quickchartButtonEl.classList.remove('colab-df-spinner');\n",
              "      quickchartButtonEl.classList.add('colab-df-quickchart-complete');\n",
              "    }\n",
              "    (() => {\n",
              "      let quickchartButtonEl =\n",
              "        document.querySelector('#df-ee546bfa-c348-4cb8-8320-f5d2c6f1257a button');\n",
              "      quickchartButtonEl.style.display =\n",
              "        google.colab.kernel.accessAllowed ? 'block' : 'none';\n",
              "    })();\n",
              "  </script>\n",
              "</div>\n",
              "    </div>\n",
              "  </div>\n"
            ],
            "application/vnd.google.colaboratory.intrinsic+json": {
              "type": "dataframe",
              "summary": "{\n  \"name\": \"df_swoop\",\n  \"rows\": 8,\n  \"fields\": [\n    {\n      \"column\": \"Unnamed: 0\",\n      \"properties\": {\n        \"dtype\": \"number\",\n        \"std\": 48999.259011954484,\n        \"min\": 577.1437566169417,\n        \"max\": 107411.0,\n        \"num_unique_values\": 8,\n        \"samples\": [\n          106475.51640513552,\n          106361.0,\n          701.0\n        ],\n        \"semantic_type\": \"\",\n        \"description\": \"\"\n      }\n    },\n    {\n      \"column\": \"EntertainmentRating\",\n      \"properties\": {\n        \"dtype\": \"number\",\n        \"std\": 247.46766612564943,\n        \"min\": 0.0,\n        \"max\": 701.0,\n        \"num_unique_values\": 6,\n        \"samples\": [\n          701.0,\n          0.46219686162624823,\n          5.0\n        ],\n        \"semantic_type\": \"\",\n        \"description\": \"\"\n      }\n    },\n    {\n      \"column\": \"FoodRating\",\n      \"properties\": {\n        \"dtype\": \"number\",\n        \"std\": 247.4472915166061,\n        \"min\": 0.0,\n        \"max\": 701.0,\n        \"num_unique_values\": 6,\n        \"samples\": [\n          701.0,\n          0.6504992867332382,\n          5.0\n        ],\n        \"semantic_type\": \"\",\n        \"description\": \"\"\n      }\n    },\n    {\n      \"column\": \"GroundServiceRating\",\n      \"properties\": {\n        \"dtype\": \"number\",\n        \"std\": 247.1624209262661,\n        \"min\": 0.0,\n        \"max\": 701.0,\n        \"num_unique_values\": 7,\n        \"samples\": [\n          701.0,\n          1.891583452211127,\n          3.0\n        ],\n        \"semantic_type\": \"\",\n        \"description\": \"\"\n      }\n    },\n    {\n      \"column\": \"OverallScore\",\n      \"properties\": {\n        \"dtype\": \"number\",\n        \"std\": 246.73218696852115,\n        \"min\": 1.0,\n        \"max\": 701.0,\n        \"num_unique_values\": 6,\n        \"samples\": [\n          701.0,\n          3.0128388017118404,\n          10.0\n        ],\n        \"semantic_type\": \"\",\n        \"description\": \"\"\n      }\n    },\n    {\n      \"column\": \"SeatComfortRating\",\n      \"properties\": {\n        \"dtype\": \"number\",\n        \"std\": 247.1707334661035,\n        \"min\": 0.0,\n        \"max\": 701.0,\n        \"num_unique_values\": 7,\n        \"samples\": [\n          701.0,\n          1.8345221112696148,\n          3.0\n        ],\n        \"semantic_type\": \"\",\n        \"description\": \"\"\n      }\n    },\n    {\n      \"column\": \"ServiceRating\",\n      \"properties\": {\n        \"dtype\": \"number\",\n        \"std\": 247.09310521670596,\n        \"min\": 0.0,\n        \"max\": 701.0,\n        \"num_unique_values\": 7,\n        \"samples\": [\n          701.0,\n          2.122681883024251,\n          4.0\n        ],\n        \"semantic_type\": \"\",\n        \"description\": \"\"\n      }\n    },\n    {\n      \"column\": \"ValueRating\",\n      \"properties\": {\n        \"dtype\": \"number\",\n        \"std\": 247.10187719317142,\n        \"min\": 1.0,\n        \"max\": 701.0,\n        \"num_unique_values\": 6,\n        \"samples\": [\n          701.0,\n          2.108416547788873,\n          5.0\n        ],\n        \"semantic_type\": \"\",\n        \"description\": \"\"\n      }\n    },\n    {\n      \"column\": \"WifiRating\",\n      \"properties\": {\n        \"dtype\": \"number\",\n        \"std\": 247.45436111139705,\n        \"min\": 0.0,\n        \"max\": 701.0,\n        \"num_unique_values\": 6,\n        \"samples\": [\n          701.0,\n          0.5677603423680456,\n          5.0\n        ],\n        \"semantic_type\": \"\",\n        \"description\": \"\"\n      }\n    },\n    {\n      \"column\": \"Review_score_nltk\",\n      \"properties\": {\n        \"dtype\": \"number\",\n        \"std\": 247.69647784798664,\n        \"min\": 0.0,\n        \"max\": 701.0,\n        \"num_unique_values\": 5,\n        \"samples\": [\n          0.38088445078459343,\n          1.0,\n          0.48595098465426323\n        ],\n        \"semantic_type\": \"\",\n        \"description\": \"\"\n      }\n    },\n    {\n      \"column\": \"Review_score\",\n      \"properties\": {\n        \"dtype\": \"number\",\n        \"std\": 247.76100167773245,\n        \"min\": 0.0,\n        \"max\": 701.0,\n        \"num_unique_values\": 5,\n        \"samples\": [\n          0.19258202567760344,\n          1.0,\n          0.3946090769601218\n        ],\n        \"semantic_type\": \"\",\n        \"description\": \"\"\n      }\n    },\n    {\n      \"column\": \"Recommended_bin\",\n      \"properties\": {\n        \"dtype\": \"number\",\n        \"std\": 247.75768347076436,\n        \"min\": 0.0,\n        \"max\": 701.0,\n        \"num_unique_values\": 5,\n        \"samples\": [\n          0.23109843081312412,\n          1.0,\n          0.421836214336922\n        ],\n        \"semantic_type\": \"\",\n        \"description\": \"\"\n      }\n    }\n  ]\n}"
            }
          },
          "metadata": {},
          "execution_count": 8
        }
      ]
    },
    {
      "cell_type": "code",
      "source": [
        "# Splitting the dataset into training and testing sets\n",
        "features = ['EntertainmentRating', 'FoodRating', 'GroundServiceRating', 'SeatComfortRating', 'ServiceRating', 'ValueRating', 'WifiRating', 'Review_score_nltk', 'Review_score', 'OverallScore']\n",
        "X = df_swoop[features]  # Predictor variables\n",
        "y = df_swoop['Recommended_bin']  # Target variable\n",
        "\n",
        "X_train, X_test, y_train, y_test = train_test_split(X, y, test_size=0.2, random_state=42)"
      ],
      "metadata": {
        "id": "ootWPcEfPWfn"
      },
      "execution_count": 9,
      "outputs": []
    },
    {
      "cell_type": "markdown",
      "source": [
        "## Logistic Regression"
      ],
      "metadata": {
        "id": "ijFkBhksPnC-"
      }
    },
    {
      "cell_type": "code",
      "source": [
        "lr_model = LogisticRegression()\n",
        "lr_model.fit(X_train, y_train)\n",
        "\n",
        "y_pred_lr = lr_model.predict(X_test)\n",
        "\n",
        "accuracy_lr = accuracy_score(y_test, y_pred_lr).round(3)\n",
        "precision_lr = precision_score(y_test, y_pred_lr).round(3)\n",
        "recall_lr = recall_score(y_test, y_pred_lr).round(3)\n",
        "f1_lr = f1_score(y_test, y_pred_lr).round(3)\n",
        "conf_matrix_lr = confusion_matrix(y_test, y_pred_lr)"
      ],
      "metadata": {
        "id": "NGAQqhYlPoys"
      },
      "execution_count": 30,
      "outputs": []
    },
    {
      "cell_type": "code",
      "source": [
        "auc_lr = roc_auc_score(y_test, y_pred_lr, average='macro')\n",
        "auc_lr"
      ],
      "metadata": {
        "colab": {
          "base_uri": "https://localhost:8080/"
        },
        "id": "frbSQT5WdN1j",
        "outputId": "ce2b9fdc-470f-41b6-d509-75329d34c3c1"
      },
      "execution_count": 31,
      "outputs": [
        {
          "output_type": "execute_result",
          "data": {
            "text/plain": [
              "0.9802188552188552"
            ]
          },
          "metadata": {},
          "execution_count": 31
        }
      ]
    },
    {
      "cell_type": "code",
      "source": [
        "print(f\"Metrics of logistic regression: \")\n",
        "print(f\"Accuracy: {accuracy_lr}\")\n",
        "print(f\"Precision: {precision_lr}\")\n",
        "print(f\"Recall: {recall_lr}\")\n",
        "print(f\"F1 score: {f1_lr}\")\n",
        "\n",
        "# Create a confusion matrix\n",
        "sns.heatmap(conf_matrix_lr, annot=True, fmt=\"d\", cmap=\"Blues\", xticklabels=[\"Pred_NotRecom\", \"Pred_Recom\"], yticklabels=[\"True_NotRecom\", \"True_Recom\"])\n",
        "plt.ylabel('True Recommended')\n",
        "plt.xlabel('Predicted Recommended')\n",
        "plt.title('Confusion Matrix')\n",
        "plt.show()"
      ],
      "metadata": {
        "colab": {
          "base_uri": "https://localhost:8080/",
          "height": 561
        },
        "id": "zCFDbZKGPrSN",
        "outputId": "0779f217-ba89-492a-ce2a-ed300ace9135"
      },
      "execution_count": 15,
      "outputs": [
        {
          "output_type": "stream",
          "name": "stdout",
          "text": [
            "Metrics of logistic regression: \n",
            "Accuracy: 0.986\n",
            "Precision: 0.97\n",
            "Recall: 0.97\n",
            "F1 score: 0.97\n"
          ]
        },
        {
          "output_type": "display_data",
          "data": {
            "text/plain": [
              "<Figure size 640x480 with 2 Axes>"
            ],
            "image/png": "[encoded data removed]"
          },
          "metadata": {}
        }
      ]
    },
    {
      "cell_type": "markdown",
      "source": [
        "## Decision Tree"
      ],
      "metadata": {
        "id": "-C7wt88rQHyp"
      }
    },
    {
      "cell_type": "code",
      "source": [
        "# Training the Decision Tree model\n",
        "dt_model = DecisionTreeClassifier(random_state=124)\n",
        "dt_model.fit(X_train, y_train)\n",
        "\n",
        "y_pred_dt = dt_model.predict(X_test)\n",
        "\n",
        "# Evaluating the Decision Tree model\n",
        "accuracy_dt = accuracy_score(y_test, y_pred_dt).round(3)\n",
        "precision_dt = precision_score(y_test, y_pred_dt).round(3)\n",
        "recall_dt = recall_score(y_test, y_pred_dt).round(3)\n",
        "f1_dt = f1_score(y_test, y_pred_dt).round(3)\n",
        "conf_matrix_dt = confusion_matrix(y_test, y_pred_dt)\n"
      ],
      "metadata": {
        "id": "5ckLj5pBQJcw"
      },
      "execution_count": 16,
      "outputs": []
    },
    {
      "cell_type": "code",
      "source": [
        "auc_dt = roc_auc_score(y_test, y_pred_dt, average='macro')\n",
        "auc_dt"
      ],
      "metadata": {
        "colab": {
          "base_uri": "https://localhost:8080/"
        },
        "id": "GGJnHVXwdFq1",
        "outputId": "bded9998-87df-47cb-fd56-eb7949a40605"
      },
      "execution_count": 32,
      "outputs": [
        {
          "output_type": "execute_result",
          "data": {
            "text/plain": [
              "0.9802188552188552"
            ]
          },
          "metadata": {},
          "execution_count": 32
        }
      ]
    },
    {
      "cell_type": "markdown",
      "source": [
        "**Cross-val**"
      ],
      "metadata": {
        "id": "v5H77gy6QLVo"
      }
    },
    {
      "cell_type": "code",
      "source": [
        "from sklearn.model_selection import cross_val_score\n",
        "max_depth = 2\n",
        "max_acc = 0\n",
        "depths = []\n",
        "cv = []\n",
        "\n",
        "for depth in range(2,16):\n",
        "  depths.append(depth)\n",
        "  decisionTree = DecisionTreeClassifier(max_depth=depth)\n",
        "  cv_score = cross_val_score(decisionTree, X, y, scoring=\"accuracy\", cv=5).mean().round(3)\n",
        "  if cv_score > max_acc:\n",
        "    max_acc = cv_score\n",
        "    max_depth = depth\n",
        "  cv.append(cv_score)\n",
        "\n",
        "plt.plot(depths, cv, label='cv_acc')\n",
        "\n",
        "plt.title(\"Tree depth - CV_accuracy\")\n",
        "plt.xlabel('Depth of Decision Tree')\n",
        "plt.ylabel('Accuracy')\n",
        "plt.legend()\n",
        "plt.show()"
      ],
      "metadata": {
        "colab": {
          "base_uri": "https://localhost:8080/",
          "height": 472
        },
        "id": "V1ufsgVwQNvw",
        "outputId": "a09355e7-6580-4313-8a09-72c4ba15e696"
      },
      "execution_count": 17,
      "outputs": [
        {
          "output_type": "display_data",
          "data": {
            "text/plain": [
              "<Figure size 640x480 with 1 Axes>"
            ],
            "image/png": "[encoded data removed]"
          },
          "metadata": {}
        }
      ]
    },
    {
      "cell_type": "code",
      "source": [
        "print(f\"Depth of {max_depth} has the higest mean accuracy of {max_acc}.\")"
      ],
      "metadata": {
        "colab": {
          "base_uri": "https://localhost:8080/"
        },
        "id": "KwJbUTrwQRzq",
        "outputId": "7aa9af04-501d-4855-f200-201670e4db7c"
      },
      "execution_count": 18,
      "outputs": [
        {
          "output_type": "stream",
          "name": "stdout",
          "text": [
            "Depth of 4 has the higest mean accuracy of 0.99.\n"
          ]
        }
      ]
    },
    {
      "cell_type": "markdown",
      "source": [
        "## Neural Networks"
      ],
      "metadata": {
        "id": "vAyhoUbGV0WA"
      }
    },
    {
      "cell_type": "code",
      "source": [
        "# We're going to use neural nets to perform classification here\n",
        "import tensorflow as tf\n",
        "from tensorflow.keras.models import Sequential\n",
        "import numpy as np\n",
        "from tensorflow.keras.layers import Dense\n",
        "from sklearn.preprocessing import OneHotEncoder\n",
        "from sklearn.metrics import roc_auc_score\n",
        "from tensorflow.keras.regularizers import l1, l2, l1_l2"
      ],
      "metadata": {
        "id": "x3HgjLJ3V2Hj"
      },
      "execution_count": 49,
      "outputs": []
    },
    {
      "cell_type": "code",
      "source": [
        "X_train, X_test, y_train, y_test = train_test_split(X, y, test_size=0.2, random_state=42)\n",
        "\n",
        "# Define the neural network architecture\n",
        "model = tf.keras.Sequential([\n",
        "    tf.keras.layers.Dense(10, activation='relu', input_shape=(X_train.shape[1],)),\n",
        "    tf.keras.layers.Dense(10, activation='relu', kernel_regularizer=l2(0.01)),\n",
        "    tf.keras.layers.Dense(1, activation='sigmoid', kernel_regularizer=l2(0.01))\n",
        "])\n",
        "\n",
        "# Compile the model with binary_crossentropy\n",
        "model.compile(optimizer='adam',\n",
        "              loss='binary_crossentropy',\n",
        "              metrics=['accuracy'])\n",
        "\n",
        "# Train the model\n",
        "model.fit(X_train, y_train, epochs=50, batch_size=32, validation_split=0.1)\n",
        "\n",
        "y_pred_prob = model.predict(X_test).ravel()\n"
      ],
      "metadata": {
        "colab": {
          "base_uri": "https://localhost:8080/"
        },
        "id": "jsaLS-h8V9wL",
        "outputId": "2cf8074f-5c4c-4df8-c870-e6d4e0eedf0c"
      },
      "execution_count": 54,
      "outputs": [
        {
          "output_type": "stream",
          "name": "stdout",
          "text": [
            "Epoch 1/50\n",
            "16/16 [==============================] - 3s 49ms/step - loss: 1.0171 - accuracy: 0.2341 - val_loss: 1.0259 - val_accuracy: 0.1964\n",
            "Epoch 2/50\n",
            "16/16 [==============================] - 0s 14ms/step - loss: 0.8558 - accuracy: 0.2341 - val_loss: 0.8664 - val_accuracy: 0.1964\n",
            "Epoch 3/50\n",
            "16/16 [==============================] - 0s 15ms/step - loss: 0.7687 - accuracy: 0.2877 - val_loss: 0.7713 - val_accuracy: 0.3214\n",
            "Epoch 4/50\n",
            "16/16 [==============================] - 0s 18ms/step - loss: 0.7107 - accuracy: 0.6190 - val_loss: 0.7048 - val_accuracy: 0.6429\n",
            "Epoch 5/50\n",
            "16/16 [==============================] - 0s 16ms/step - loss: 0.6681 - accuracy: 0.7679 - val_loss: 0.6527 - val_accuracy: 0.8750\n",
            "Epoch 6/50\n",
            "16/16 [==============================] - 0s 15ms/step - loss: 0.6294 - accuracy: 0.8889 - val_loss: 0.6138 - val_accuracy: 0.8929\n",
            "Epoch 7/50\n",
            "16/16 [==============================] - 0s 11ms/step - loss: 0.5954 - accuracy: 0.9226 - val_loss: 0.5702 - val_accuracy: 0.9107\n",
            "Epoch 8/50\n",
            "16/16 [==============================] - 0s 21ms/step - loss: 0.5618 - accuracy: 0.9266 - val_loss: 0.5398 - val_accuracy: 0.9107\n",
            "Epoch 9/50\n",
            "16/16 [==============================] - 0s 16ms/step - loss: 0.5302 - accuracy: 0.9325 - val_loss: 0.5063 - val_accuracy: 0.9107\n",
            "Epoch 10/50\n",
            "16/16 [==============================] - 0s 13ms/step - loss: 0.5006 - accuracy: 0.9306 - val_loss: 0.4725 - val_accuracy: 0.9464\n",
            "Epoch 11/50\n",
            "16/16 [==============================] - 0s 5ms/step - loss: 0.4706 - accuracy: 0.9405 - val_loss: 0.4484 - val_accuracy: 0.9464\n",
            "Epoch 12/50\n",
            "16/16 [==============================] - 0s 5ms/step - loss: 0.4417 - accuracy: 0.9444 - val_loss: 0.4175 - val_accuracy: 0.9464\n",
            "Epoch 13/50\n",
            "16/16 [==============================] - 0s 9ms/step - loss: 0.4142 - accuracy: 0.9504 - val_loss: 0.3862 - val_accuracy: 0.9464\n",
            "Epoch 14/50\n",
            "16/16 [==============================] - 0s 9ms/step - loss: 0.3877 - accuracy: 0.9544 - val_loss: 0.3654 - val_accuracy: 0.9464\n",
            "Epoch 15/50\n",
            "16/16 [==============================] - 0s 9ms/step - loss: 0.3613 - accuracy: 0.9563 - val_loss: 0.3353 - val_accuracy: 0.9464\n",
            "Epoch 16/50\n",
            "16/16 [==============================] - 0s 9ms/step - loss: 0.3367 - accuracy: 0.9623 - val_loss: 0.3168 - val_accuracy: 0.9464\n",
            "Epoch 17/50\n",
            "16/16 [==============================] - 0s 8ms/step - loss: 0.3137 - accuracy: 0.9722 - val_loss: 0.2946 - val_accuracy: 0.9464\n",
            "Epoch 18/50\n",
            "16/16 [==============================] - 0s 9ms/step - loss: 0.2935 - accuracy: 0.9782 - val_loss: 0.2758 - val_accuracy: 0.9464\n",
            "Epoch 19/50\n",
            "16/16 [==============================] - 0s 9ms/step - loss: 0.2750 - accuracy: 0.9782 - val_loss: 0.2611 - val_accuracy: 0.9464\n",
            "Epoch 20/50\n",
            "16/16 [==============================] - 0s 10ms/step - loss: 0.2581 - accuracy: 0.9782 - val_loss: 0.2479 - val_accuracy: 0.9643\n",
            "Epoch 21/50\n",
            "16/16 [==============================] - 0s 10ms/step - loss: 0.2442 - accuracy: 0.9802 - val_loss: 0.2342 - val_accuracy: 0.9821\n",
            "Epoch 22/50\n",
            "16/16 [==============================] - 0s 8ms/step - loss: 0.2309 - accuracy: 0.9841 - val_loss: 0.2242 - val_accuracy: 0.9821\n",
            "Epoch 23/50\n",
            "16/16 [==============================] - 0s 8ms/step - loss: 0.2200 - accuracy: 0.9841 - val_loss: 0.2139 - val_accuracy: 0.9821\n",
            "Epoch 24/50\n",
            "16/16 [==============================] - 0s 9ms/step - loss: 0.2095 - accuracy: 0.9841 - val_loss: 0.2091 - val_accuracy: 0.9821\n",
            "Epoch 25/50\n",
            "16/16 [==============================] - 0s 7ms/step - loss: 0.2019 - accuracy: 0.9841 - val_loss: 0.1993 - val_accuracy: 0.9821\n",
            "Epoch 26/50\n",
            "16/16 [==============================] - 0s 9ms/step - loss: 0.1923 - accuracy: 0.9841 - val_loss: 0.1953 - val_accuracy: 0.9821\n",
            "Epoch 27/50\n",
            "16/16 [==============================] - 0s 10ms/step - loss: 0.1854 - accuracy: 0.9841 - val_loss: 0.1906 - val_accuracy: 0.9821\n",
            "Epoch 28/50\n",
            "16/16 [==============================] - 0s 9ms/step - loss: 0.1792 - accuracy: 0.9861 - val_loss: 0.1853 - val_accuracy: 0.9821\n",
            "Epoch 29/50\n",
            "16/16 [==============================] - 0s 10ms/step - loss: 0.1731 - accuracy: 0.9861 - val_loss: 0.1825 - val_accuracy: 0.9821\n",
            "Epoch 30/50\n",
            "16/16 [==============================] - 0s 10ms/step - loss: 0.1681 - accuracy: 0.9861 - val_loss: 0.1789 - val_accuracy: 0.9821\n",
            "Epoch 31/50\n",
            "16/16 [==============================] - 0s 8ms/step - loss: 0.1635 - accuracy: 0.9861 - val_loss: 0.1747 - val_accuracy: 0.9821\n",
            "Epoch 32/50\n",
            "16/16 [==============================] - 0s 10ms/step - loss: 0.1583 - accuracy: 0.9861 - val_loss: 0.1751 - val_accuracy: 0.9821\n",
            "Epoch 33/50\n",
            "16/16 [==============================] - 0s 11ms/step - loss: 0.1552 - accuracy: 0.9861 - val_loss: 0.1705 - val_accuracy: 0.9821\n",
            "Epoch 34/50\n",
            "16/16 [==============================] - 0s 9ms/step - loss: 0.1506 - accuracy: 0.9861 - val_loss: 0.1708 - val_accuracy: 0.9821\n",
            "Epoch 35/50\n",
            "16/16 [==============================] - 0s 11ms/step - loss: 0.1476 - accuracy: 0.9881 - val_loss: 0.1691 - val_accuracy: 0.9821\n",
            "Epoch 36/50\n",
            "16/16 [==============================] - 0s 9ms/step - loss: 0.1439 - accuracy: 0.9881 - val_loss: 0.1671 - val_accuracy: 0.9821\n",
            "Epoch 37/50\n",
            "16/16 [==============================] - 0s 8ms/step - loss: 0.1411 - accuracy: 0.9881 - val_loss: 0.1662 - val_accuracy: 0.9821\n",
            "Epoch 38/50\n",
            "16/16 [==============================] - 0s 10ms/step - loss: 0.1381 - accuracy: 0.9881 - val_loss: 0.1669 - val_accuracy: 0.9821\n",
            "Epoch 39/50\n",
            "16/16 [==============================] - 0s 8ms/step - loss: 0.1358 - accuracy: 0.9881 - val_loss: 0.1683 - val_accuracy: 0.9821\n",
            "Epoch 40/50\n",
            "16/16 [==============================] - 0s 10ms/step - loss: 0.1329 - accuracy: 0.9881 - val_loss: 0.1663 - val_accuracy: 0.9821\n",
            "Epoch 41/50\n",
            "16/16 [==============================] - 0s 11ms/step - loss: 0.1307 - accuracy: 0.9881 - val_loss: 0.1658 - val_accuracy: 0.9821\n",
            "Epoch 42/50\n",
            "16/16 [==============================] - 0s 8ms/step - loss: 0.1284 - accuracy: 0.9881 - val_loss: 0.1649 - val_accuracy: 0.9821\n",
            "Epoch 43/50\n",
            "16/16 [==============================] - 0s 9ms/step - loss: 0.1268 - accuracy: 0.9881 - val_loss: 0.1666 - val_accuracy: 0.9821\n",
            "Epoch 44/50\n",
            "16/16 [==============================] - 0s 11ms/step - loss: 0.1245 - accuracy: 0.9881 - val_loss: 0.1655 - val_accuracy: 0.9821\n",
            "Epoch 45/50\n",
            "16/16 [==============================] - 0s 9ms/step - loss: 0.1234 - accuracy: 0.9881 - val_loss: 0.1645 - val_accuracy: 0.9821\n",
            "Epoch 46/50\n",
            "16/16 [==============================] - 0s 11ms/step - loss: 0.1212 - accuracy: 0.9881 - val_loss: 0.1656 - val_accuracy: 0.9821\n",
            "Epoch 47/50\n",
            "16/16 [==============================] - 0s 11ms/step - loss: 0.1190 - accuracy: 0.9881 - val_loss: 0.1668 - val_accuracy: 0.9821\n",
            "Epoch 48/50\n",
            "16/16 [==============================] - 0s 16ms/step - loss: 0.1179 - accuracy: 0.9881 - val_loss: 0.1659 - val_accuracy: 0.9821\n",
            "Epoch 49/50\n",
            "16/16 [==============================] - 0s 14ms/step - loss: 0.1167 - accuracy: 0.9881 - val_loss: 0.1660 - val_accuracy: 0.9821\n",
            "Epoch 50/50\n",
            "16/16 [==============================] - 0s 22ms/step - loss: 0.1151 - accuracy: 0.9881 - val_loss: 0.1662 - val_accuracy: 0.9821\n",
            "5/5 [==============================] - 0s 4ms/step\n"
          ]
        }
      ]
    },
    {
      "cell_type": "code",
      "source": [
        "# Calculate the AUC\n",
        "auc_nn = roc_auc_score(y_test, y_pred_prob, average='macro')\n",
        "loss, accuracy_nn = model.evaluate(X_test, y_test, verbose=0)\n",
        "\n",
        "print(auc_nn)\n",
        "print(accuracy_nn)"
      ],
      "metadata": {
        "colab": {
          "base_uri": "https://localhost:8080/"
        },
        "id": "tXgNm74SXGV2",
        "outputId": "3e4698d3-ef66-4da1-8bd3-7b4d15b42597"
      },
      "execution_count": 55,
      "outputs": [
        {
          "output_type": "stream",
          "name": "stdout",
          "text": [
            "0.9985970819304152\n",
            "0.9929078221321106\n"
          ]
        }
      ]
    },
    {
      "cell_type": "markdown",
      "source": [
        "# Choose Logistic Regression as our model\n",
        "According to the Occam’s Razor, since the models performance are very close to each other, we will pick the simplest model from the three, which is Logistic Regression!\n",
        "Then we will do some model improvement including: Finding the optimal hyperparameter, data normalization and feature penalization to avoid over-fitting and improve the model performance even more!\n"
      ],
      "metadata": {
        "id": "jZ9H_5pcf9q-"
      }
    },
    {
      "cell_type": "code",
      "source": [
        "from sklearn.preprocessing import MinMaxScaler\n",
        "\n",
        "X_train, X_test, y_train, y_test = train_test_split(X, y, test_size=0.2, random_state=42)\n",
        "\n",
        "scaler = MinMaxScaler()\n",
        "scaler.fit(X_train)\n",
        "\n",
        "X_train_scaled = scaler.transform(X_train)\n",
        "X_test_scaled = scaler.transform(X_test)\n",
        "\n",
        "print(X_train.describe())"
      ],
      "metadata": {
        "colab": {
          "base_uri": "https://localhost:8080/"
        },
        "id": "n8O6xK2ngE3g",
        "outputId": "26357966-4e09-4471-e1e0-94690de2c4c3"
      },
      "execution_count": 47,
      "outputs": [
        {
          "output_type": "stream",
          "name": "stdout",
          "text": [
            "       EntertainmentRating  FoodRating  GroundServiceRating  \\\n",
            "count           560.000000  560.000000           560.000000   \n",
            "mean              0.482143    0.682143             1.910714   \n",
            "std               1.074856    1.289438             1.625785   \n",
            "min               0.000000    0.000000             0.000000   \n",
            "25%               0.000000    0.000000             1.000000   \n",
            "50%               0.000000    0.000000             1.000000   \n",
            "75%               1.000000    1.000000             3.000000   \n",
            "max               5.000000    5.000000             5.000000   \n",
            "\n",
            "       SeatComfortRating  ServiceRating  ValueRating  WifiRating  \\\n",
            "count         560.000000     560.000000   560.000000  560.000000   \n",
            "mean            1.826786       2.139286     2.110714    0.569643   \n",
            "std             1.514508       1.797999     1.602288    1.207671   \n",
            "min             0.000000       0.000000     1.000000    0.000000   \n",
            "25%             1.000000       1.000000     1.000000    0.000000   \n",
            "50%             1.000000       1.000000     1.000000    0.000000   \n",
            "75%             3.000000       4.000000     3.000000    1.000000   \n",
            "max             5.000000       5.000000     5.000000    5.000000   \n",
            "\n",
            "       Review_score_nltk  Review_score  OverallScore  \n",
            "count         560.000000    560.000000    560.000000  \n",
            "mean            0.389286      0.194643      3.003571  \n",
            "std             0.488024      0.396279      3.259222  \n",
            "min             0.000000      0.000000      1.000000  \n",
            "25%             0.000000      0.000000      1.000000  \n",
            "50%             0.000000      0.000000      1.000000  \n",
            "75%             1.000000      0.000000      3.000000  \n",
            "max             1.000000      1.000000     10.000000  \n"
          ]
        }
      ]
    },
    {
      "cell_type": "code",
      "source": [
        "from sklearn.linear_model import LogisticRegression\n",
        "\n",
        "# L1 Regularization\n",
        "model_l1 = LogisticRegression(penalty='l1', solver='liblinear', C=1.0)\n",
        "model_l1.fit(X_train, y_train)\n",
        "\n",
        "# L2 Regularization\n",
        "model_l2 = LogisticRegression(penalty='l2', solver='liblinear', C=1.0)\n",
        "model_l2.fit(X_train, y_train)\n",
        "\n",
        "# Elastic Net Regularization\n",
        "model_elasticnet = LogisticRegression(penalty='elasticnet', solver='saga', l1_ratio=0.5, C=1.0)\n",
        "model_elasticnet.fit(X_train, y_train)\n"
      ],
      "metadata": {
        "colab": {
          "base_uri": "https://localhost:8080/",
          "height": 130
        },
        "id": "Mvr2Dtp4g86i",
        "outputId": "719b672a-23ac-486b-e137-52ee112beb3e"
      },
      "execution_count": 56,
      "outputs": [
        {
          "output_type": "stream",
          "name": "stderr",
          "text": [
            "/usr/local/lib/python3.10/dist-packages/sklearn/linear_model/_sag.py:350: ConvergenceWarning: The max_iter was reached which means the coef_ did not converge\n",
            "  warnings.warn(\n"
          ]
        },
        {
          "output_type": "execute_result",
          "data": {
            "text/plain": [
              "LogisticRegression(l1_ratio=0.5, penalty='elasticnet', solver='saga')"
            ],
            "text/html": [
              "<style>#sk-container-id-1 {color: black;background-color: white;}#sk-container-id-1 pre{padding: 0;}#sk-container-id-1 div.sk-toggleable {background-color: white;}#sk-container-id-1 label.sk-toggleable__label {cursor: pointer;display: block;width: 100%;margin-bottom: 0;padding: 0.3em;box-sizing: border-box;text-align: center;}#sk-container-id-1 label.sk-toggleable__label-arrow:before {content: \"▸\";float: left;margin-right: 0.25em;color: #696969;}#sk-container-id-1 label.sk-toggleable__label-arrow:hover:before {color: black;}#sk-container-id-1 div.sk-estimator:hover label.sk-toggleable__label-arrow:before {color: black;}#sk-container-id-1 div.sk-toggleable__content {max-height: 0;max-width: 0;overflow: hidden;text-align: left;background-color: #f0f8ff;}#sk-container-id-1 div.sk-toggleable__content pre {margin: 0.2em;color: black;border-radius: 0.25em;background-color: #f0f8ff;}#sk-container-id-1 input.sk-toggleable__control:checked~div.sk-toggleable__content {max-height: 200px;max-width: 100%;overflow: auto;}#sk-container-id-1 input.sk-toggleable__control:checked~label.sk-toggleable__label-arrow:before {content: \"▾\";}#sk-container-id-1 div.sk-estimator input.sk-toggleable__control:checked~label.sk-toggleable__label {background-color: #d4ebff;}#sk-container-id-1 div.sk-label input.sk-toggleable__control:checked~label.sk-toggleable__label {background-color: #d4ebff;}#sk-container-id-1 input.sk-hidden--visually {border: 0;clip: rect(1px 1px 1px 1px);clip: rect(1px, 1px, 1px, 1px);height: 1px;margin: -1px;overflow: hidden;padding: 0;position: absolute;width: 1px;}#sk-container-id-1 div.sk-estimator {font-family: monospace;background-color: #f0f8ff;border: 1px dotted black;border-radius: 0.25em;box-sizing: border-box;margin-bottom: 0.5em;}#sk-container-id-1 div.sk-estimator:hover {background-color: #d4ebff;}#sk-container-id-1 div.sk-parallel-item::after {content: \"\";width: 100%;border-bottom: 1px solid gray;flex-grow: 1;}#sk-container-id-1 div.sk-label:hover label.sk-toggleable__label {background-color: #d4ebff;}#sk-container-id-1 div.sk-serial::before {content: \"\";position: absolute;border-left: 1px solid gray;box-sizing: border-box;top: 0;bottom: 0;left: 50%;z-index: 0;}#sk-container-id-1 div.sk-serial {display: flex;flex-direction: column;align-items: center;background-color: white;padding-right: 0.2em;padding-left: 0.2em;position: relative;}#sk-container-id-1 div.sk-item {position: relative;z-index: 1;}#sk-container-id-1 div.sk-parallel {display: flex;align-items: stretch;justify-content: center;background-color: white;position: relative;}#sk-container-id-1 div.sk-item::before, #sk-container-id-1 div.sk-parallel-item::before {content: \"\";position: absolute;border-left: 1px solid gray;box-sizing: border-box;top: 0;bottom: 0;left: 50%;z-index: -1;}#sk-container-id-1 div.sk-parallel-item {display: flex;flex-direction: column;z-index: 1;position: relative;background-color: white;}#sk-container-id-1 div.sk-parallel-item:first-child::after {align-self: flex-end;width: 50%;}#sk-container-id-1 div.sk-parallel-item:last-child::after {align-self: flex-start;width: 50%;}#sk-container-id-1 div.sk-parallel-item:only-child::after {width: 0;}#sk-container-id-1 div.sk-dashed-wrapped {border: 1px dashed gray;margin: 0 0.4em 0.5em 0.4em;box-sizing: border-box;padding-bottom: 0.4em;background-color: white;}#sk-container-id-1 div.sk-label label {font-family: monospace;font-weight: bold;display: inline-block;line-height: 1.2em;}#sk-container-id-1 div.sk-label-container {text-align: center;}#sk-container-id-1 div.sk-container {/* jupyter's `normalize.less` sets `[hidden] { display: none; }` but bootstrap.min.css set `[hidden] { display: none !important; }` so we also need the `!important` here to be able to override the default hidden behavior on the sphinx rendered scikit-learn.org. See: https://github.com/scikit-learn/scikit-learn/issues/21755 */display: inline-block !important;position: relative;}#sk-container-id-1 div.sk-text-repr-fallback {display: none;}</style><div id=\"sk-container-id-1\" class=\"sk-top-container\"><div class=\"sk-text-repr-fallback\"><pre>LogisticRegression(l1_ratio=0.5, penalty=&#x27;elasticnet&#x27;, solver=&#x27;saga&#x27;)</pre><b>In a Jupyter environment, please rerun this cell to show the HTML representation or trust the notebook. <br />On GitHub, the HTML representation is unable to render, please try loading this page with nbviewer.org.</b></div><div class=\"sk-container\" hidden><div class=\"sk-item\"><div class=\"sk-estimator sk-toggleable\"><input class=\"sk-toggleable__control sk-hidden--visually\" id=\"sk-estimator-id-1\" type=\"checkbox\" checked><label for=\"sk-estimator-id-1\" class=\"sk-toggleable__label sk-toggleable__label-arrow\">LogisticRegression</label><div class=\"sk-toggleable__content\"><pre>LogisticRegression(l1_ratio=0.5, penalty=&#x27;elasticnet&#x27;, solver=&#x27;saga&#x27;)</pre></div></div></div></div></div>"
            ]
          },
          "metadata": {},
          "execution_count": 56
        }
      ]
    },
    {
      "cell_type": "code",
      "source": [
        "from sklearn.metrics import accuracy_score, classification_report, confusion_matrix, roc_auc_score\n",
        "\n",
        "y_pred_l1 = model_l1.predict(X_test)\n",
        "y_pred_l2 = model_l2.predict(X_test)\n",
        "y_pred_en = model_elasticnet.predict(X_test)\n",
        "\n",
        "accuracy_l1 = accuracy_score(y_test, y_pred_l1)\n",
        "accuracy_l2 = accuracy_score(y_test, y_pred_l2)\n",
        "accuracy_en = accuracy_score(y_test, y_pred_en)\n",
        "print(\"Accuracy L1 Regularized Model:\", accuracy_l1)\n",
        "print(\"Accuracy L2 Regularized Model:\", accuracy_l2)\n",
        "print(\"Accuracy EN Regularized Model:\", accuracy_en)\n"
      ],
      "metadata": {
        "colab": {
          "base_uri": "https://localhost:8080/"
        },
        "id": "T6p4Hcmgkimd",
        "outputId": "d6f4866e-9fcd-4be3-b598-87e85e992b86"
      },
      "execution_count": 58,
      "outputs": [
        {
          "output_type": "stream",
          "name": "stdout",
          "text": [
            "Accuracy L1 Regularized Model: 0.9858156028368794\n",
            "Accuracy L2 Regularized Model: 0.9858156028368794\n",
            "Accuracy EN Regularized Model: 0.9858156028368794\n"
          ]
        }
      ]
    },
    {
      "cell_type": "code",
      "source": [
        "print(\"Classification Report for L1 Regularized Model:\")\n",
        "print(classification_report(y_test, y_pred_l1))\n",
        "\n",
        "print(\"Classification Report for L2 Regularized Model:\")\n",
        "print(classification_report(y_test, y_pred_l2))\n",
        "\n",
        "print(\"Classification Report for EN Regularized Model:\")\n",
        "print(classification_report(y_test, y_pred_en))"
      ],
      "metadata": {
        "colab": {
          "base_uri": "https://localhost:8080/"
        },
        "id": "9iYLh7D2k_Ef",
        "outputId": "0ed8213e-2128-4a2d-8d05-4681b3f8bc46"
      },
      "execution_count": 60,
      "outputs": [
        {
          "output_type": "stream",
          "name": "stdout",
          "text": [
            "Classification Report for L1 Regularized Model:\n",
            "              precision    recall  f1-score   support\n",
            "\n",
            "           0       0.99      0.99      0.99       108\n",
            "           1       0.97      0.97      0.97        33\n",
            "\n",
            "    accuracy                           0.99       141\n",
            "   macro avg       0.98      0.98      0.98       141\n",
            "weighted avg       0.99      0.99      0.99       141\n",
            "\n",
            "Classification Report for L2 Regularized Model:\n",
            "              precision    recall  f1-score   support\n",
            "\n",
            "           0       0.99      0.99      0.99       108\n",
            "           1       0.97      0.97      0.97        33\n",
            "\n",
            "    accuracy                           0.99       141\n",
            "   macro avg       0.98      0.98      0.98       141\n",
            "weighted avg       0.99      0.99      0.99       141\n",
            "\n",
            "Classification Report for EN Regularized Model:\n",
            "              precision    recall  f1-score   support\n",
            "\n",
            "           0       0.99      0.99      0.99       108\n",
            "           1       0.97      0.97      0.97        33\n",
            "\n",
            "    accuracy                           0.99       141\n",
            "   macro avg       0.98      0.98      0.98       141\n",
            "weighted avg       0.99      0.99      0.99       141\n",
            "\n"
          ]
        }
      ]
    },
    {
      "cell_type": "code",
      "source": [
        "conf_matrix_l1 = confusion_matrix(y_test, y_pred_l1)\n",
        "conf_matrix_l2 = confusion_matrix(y_test, y_pred_l2)\n",
        "conf_matrix_en = confusion_matrix(y_test, y_pred_en)\n",
        "print(\"Confusion Matrix L1 Regularized Model:\\n\", conf_matrix_l1)\n",
        "print(\"Confusion Matrix L2 Regularized Model:\\n\", conf_matrix_l2)\n",
        "print(\"Confusion Matrix EN Regularized Model:\\n\", conf_matrix_en)\n"
      ],
      "metadata": {
        "colab": {
          "base_uri": "https://localhost:8080/"
        },
        "id": "QZNuwYE-lPrH",
        "outputId": "36a703c4-e3ba-47e8-91f2-974ca6aa79b1"
      },
      "execution_count": 62,
      "outputs": [
        {
          "output_type": "stream",
          "name": "stdout",
          "text": [
            "Confusion Matrix L1 Regularized Model:\n",
            " [[107   1]\n",
            " [  1  32]]\n",
            "Confusion Matrix L2 Regularized Model:\n",
            " [[107   1]\n",
            " [  1  32]]\n",
            "Confusion Matrix EN Regularized Model:\n",
            " [[107   1]\n",
            " [  1  32]]\n"
          ]
        }
      ]
    },
    {
      "cell_type": "code",
      "source": [
        "# Assuming binary classification, get probability scores\n",
        "y_prob_l1 = model_l1.predict_proba(X_test)[:, 1]\n",
        "y_prob_l2 = model_l2.predict_proba(X_test)[:, 1]\n",
        "y_prob_en = model_elasticnet.predict_proba(X_test)[:, 1]\n",
        "\n",
        "roc_auc_l1 = roc_auc_score(y_test, y_prob_l1)\n",
        "roc_auc_l2 = roc_auc_score(y_test, y_prob_l2)\n",
        "roc_auc_en = roc_auc_score(y_test, y_prob_en)\n",
        "print(\"ROC-AUC Score L1 Regularized Model:\", roc_auc_l1)\n",
        "print(\"ROC-AUC Score L2 Regularized Model:\", roc_auc_l2)\n",
        "print(\"ROC-AUC Score EN Regularized Model:\", roc_auc_en)\n"
      ],
      "metadata": {
        "colab": {
          "base_uri": "https://localhost:8080/"
        },
        "id": "yn21DyWGlqge",
        "outputId": "0ea75214-6326-448c-d7ad-53b708e245ce"
      },
      "execution_count": 67,
      "outputs": [
        {
          "output_type": "stream",
          "name": "stdout",
          "text": [
            "ROC-AUC Score L1 Regularized Model: 0.999438832772166\n",
            "ROC-AUC Score L2 Regularized Model: 0.9994388327721662\n",
            "ROC-AUC Score EN Regularized Model: 0.999438832772166\n"
          ]
        }
      ]
    },
    {
      "cell_type": "markdown",
      "source": [
        "Applying different regularization makes the model performe basically the same, so we will pick L1 regularization here. Then we will find a optimal hyperparameter for logistic regression!"
      ],
      "metadata": {
        "id": "yUHZvtvSl4Ru"
      }
    },
    {
      "cell_type": "code",
      "source": [
        "max_auc = 0\n",
        "\n",
        "# Define a list of values for the hyperparameter C\n",
        "C_values = [10, 20, 50, 100, 150, 200]\n",
        "\n",
        "for C in C_values:\n",
        "  logistic_regression = LogisticRegression(C=C, max_iter=1000)\n",
        "  logistic_regression.fit(X_train, y_train)\n",
        "\n",
        "  avg_auc = cross_val_score(logistic_regression, X, y, cv=10, scoring=\"roc_auc\", n_jobs=-1).mean().round(4)\n",
        "\n",
        "  if(avg_auc > max_auc):\n",
        "    max_auc = avg_auc\n",
        "    best_C = C\n",
        "\n",
        "print(f\"Best AUC: {avg_auc}, associated C: {best_C}\")"
      ],
      "metadata": {
        "id": "DRGk4OlzmHIS",
        "outputId": "a758d72b-f859-4013-9740-52a19b26d178",
        "colab": {
          "base_uri": "https://localhost:8080/"
        }
      },
      "execution_count": 68,
      "outputs": [
        {
          "output_type": "stream",
          "name": "stderr",
          "text": [
            "/usr/local/lib/python3.10/dist-packages/joblib/externals/loky/backend/fork_exec.py:38: RuntimeWarning: os.fork() was called. os.fork() is incompatible with multithreaded code, and JAX is multithreaded, so this will likely lead to a deadlock.\n",
            "  pid = os.fork()\n",
            "/usr/local/lib/python3.10/dist-packages/joblib/externals/loky/backend/fork_exec.py:38: RuntimeWarning: os.fork() was called. os.fork() is incompatible with multithreaded code, and JAX is multithreaded, so this will likely lead to a deadlock.\n",
            "  pid = os.fork()\n"
          ]
        },
        {
          "output_type": "stream",
          "name": "stdout",
          "text": [
            "Best AUC: 0.9918, associated C: 10\n"
          ]
        }
      ]
    },
    {
      "cell_type": "markdown",
      "source": [
        "And after iterating through C_values, we find the optimal C related to logistic regression will be C=10, and we improve AUC from 0.980 to 0.9918!"
      ],
      "metadata": {
        "id": "93Q2zxagm9Yp"
      }
    }
  ]
}